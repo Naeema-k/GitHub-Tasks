{
  "nbformat": 4,
  "nbformat_minor": 0,
  "metadata": {
    "colab": {
      "provenance": [],
      "authorship_tag": "ABX9TyPP7MI5RsnyqnRPpEnpkl0R",
      "include_colab_link": true
    },
    "kernelspec": {
      "name": "python3",
      "display_name": "Python 3"
    },
    "language_info": {
      "name": "python"
    }
  },
  "cells": [
    {
      "cell_type": "markdown",
      "metadata": {
        "id": "view-in-github",
        "colab_type": "text"
      },
      "source": [
        "<a href=\"https://colab.research.google.com/github/Naeema-k/GitHub-Tasks/blob/main/Python1.ipynb\" target=\"_parent\"><img src=\"https://colab.research.google.com/assets/colab-badge.svg\" alt=\"Open In Colab\"/></a>"
      ]
    },
    {
      "cell_type": "markdown",
      "source": [
        "Class 1-Python"
      ],
      "metadata": {
        "id": "tWkIwjiGoYE7"
      }
    },
    {
      "cell_type": "code",
      "source": [
        "#variable -> data container\n",
        "num1=10\n",
        "print(num1)\n",
        "#num1=10\n",
        "@num1=10\n",
        "Num1=10\n",
        "-num1-=10\n",
        "_num1_=10\n",
        "-Num1_=10\n"
      ],
      "metadata": {
        "colab": {
          "base_uri": "https://localhost:8080/",
          "height": 132
        },
        "id": "t8_5-uySohg6",
        "outputId": "142517fc-1779-472e-ecbf-8adbb4043126"
      },
      "execution_count": null,
      "outputs": [
        {
          "output_type": "error",
          "ename": "SyntaxError",
          "evalue": "ignored",
          "traceback": [
            "\u001b[0;36m  File \u001b[0;32m\"<ipython-input-1-7995d33b3a05>\"\u001b[0;36m, line \u001b[0;32m5\u001b[0m\n\u001b[0;31m    @num1=10\u001b[0m\n\u001b[0m     ^\u001b[0m\n\u001b[0;31mSyntaxError\u001b[0m\u001b[0;31m:\u001b[0m invalid syntax. Maybe you meant '==' or ':=' instead of '='?\n"
          ]
        }
      ]
    },
    {
      "cell_type": "code",
      "source": [
        "#datatype -> typeof the data which is stored inside a variable\n",
        "#Int->whole number does not contain a decimal number\n",
        "num=10\n",
        "print(num)\n",
        "print(type(num))\n"
      ],
      "metadata": {
        "colab": {
          "base_uri": "https://localhost:8080/"
        },
        "id": "n1Ey3nY3pmfV",
        "outputId": "22ac7bdd-4a7c-4ac7-bd83-8bde447f3318"
      },
      "execution_count": null,
      "outputs": [
        {
          "output_type": "stream",
          "name": "stdout",
          "text": [
            "10\n",
            "<class 'int'>\n"
          ]
        }
      ]
    },
    {
      "cell_type": "code",
      "source": [
        "#float -> decimal number\n",
        "num1=345.4\n",
        "print(num1)\n",
        "print(type(num1))"
      ],
      "metadata": {
        "colab": {
          "base_uri": "https://localhost:8080/"
        },
        "id": "je2_CHOsqOjO",
        "outputId": "498b20b6-f0d2-4f29-e810-cdf136425be9"
      },
      "execution_count": null,
      "outputs": [
        {
          "output_type": "stream",
          "name": "stdout",
          "text": [
            "345.4\n",
            "<class 'float'>\n"
          ]
        }
      ]
    },
    {
      "cell_type": "code",
      "source": [
        "# add\n",
        "num2=123\n",
        "num3=23.45\n",
        "num4=num2+num3\n",
        "print(num4)"
      ],
      "metadata": {
        "colab": {
          "base_uri": "https://localhost:8080/"
        },
        "id": "UHuaQEpSqjP-",
        "outputId": "7bd5a5ff-b324-49e9-98b5-58e8585d649e"
      },
      "execution_count": null,
      "outputs": [
        {
          "output_type": "stream",
          "name": "stdout",
          "text": [
            "146.45\n"
          ]
        }
      ]
    },
    {
      "cell_type": "code",
      "source": [
        "#String -> set of characters written in a single or double quotation is string\n",
        "name='Introduction to Python'\n",
        "print(name)\n",
        "print(type(name))"
      ],
      "metadata": {
        "colab": {
          "base_uri": "https://localhost:8080/"
        },
        "id": "fOIlEZm4rH9Y",
        "outputId": "63d9110a-5a15-4f36-ba60-c81a898edcf1"
      },
      "execution_count": null,
      "outputs": [
        {
          "output_type": "stream",
          "name": "stdout",
          "text": [
            "Introduction to Python\n",
            "<class 'str'>\n"
          ]
        }
      ]
    },
    {
      "cell_type": "code",
      "source": [
        "# Boolean -> true or false\n",
        "print(3>7)"
      ],
      "metadata": {
        "colab": {
          "base_uri": "https://localhost:8080/"
        },
        "id": "9BzkqdQlrYLa",
        "outputId": "edb25761-5ffa-4844-ecaa-6cc122b9a6da"
      },
      "execution_count": null,
      "outputs": [
        {
          "output_type": "stream",
          "name": "stdout",
          "text": [
            "False\n"
          ]
        }
      ]
    },
    {
      "cell_type": "code",
      "source": [
        "#Conctenation\n",
        "num1=100\n",
        "num2=34.345\n",
        "print('The addition od two values are',(num1+num2))"
      ],
      "metadata": {
        "colab": {
          "base_uri": "https://localhost:8080/"
        },
        "id": "gMmDFJjMrhtR",
        "outputId": "227bb8b0-04ab-4f6b-a361-70840c0f3b66"
      },
      "execution_count": null,
      "outputs": [
        {
          "output_type": "stream",
          "name": "stdout",
          "text": [
            "The addition od two values are 134.345\n"
          ]
        }
      ]
    },
    {
      "cell_type": "code",
      "source": [
        "#concatenation\n",
        "name1='hello'\n",
        "name2='worls'\n",
        "print(name1,name2)"
      ],
      "metadata": {
        "colab": {
          "base_uri": "https://localhost:8080/"
        },
        "id": "B2eVztZ8sIr7",
        "outputId": "25670efa-c688-4b28-8ba3-b4cbfd3526f2"
      },
      "execution_count": null,
      "outputs": [
        {
          "output_type": "stream",
          "name": "stdout",
          "text": [
            "hello worls\n"
          ]
        }
      ]
    },
    {
      "cell_type": "code",
      "source": [
        "x=input(\"Enter the value\")\n",
        "y=input(\"Enter the second value\")\n",
        "print(\"The difference of two values are\",(x+y))"
      ],
      "metadata": {
        "colab": {
          "base_uri": "https://localhost:8080/"
        },
        "id": "5qixxjlQsRuM",
        "outputId": "9532f807-19c1-4cd7-f836-75c2db7a6b5b"
      },
      "execution_count": null,
      "outputs": [
        {
          "output_type": "stream",
          "name": "stdout",
          "text": [
            "Enter the valuea\n",
            "Enter the second valueb\n",
            "The difference of two values are ab\n"
          ]
        }
      ]
    },
    {
      "cell_type": "code",
      "source": [
        "x=int(input(\"Enter the value\"))\n",
        "y=int(input(\"Enter the second value\"))\n",
        "print(\"The difference of two values are\",(x-y))\n",
        "print(type(x))\n",
        "print(type(y))"
      ],
      "metadata": {
        "colab": {
          "base_uri": "https://localhost:8080/"
        },
        "id": "ZLsa-T-tswbe",
        "outputId": "e3d18e3f-4e97-4d6d-cc97-b59546deb654"
      },
      "execution_count": null,
      "outputs": [
        {
          "output_type": "stream",
          "name": "stdout",
          "text": [
            "Enter the value19\n",
            "Enter the second value9\n",
            "The difference of two values are 10\n",
            "<class 'int'>\n",
            "<class 'int'>\n"
          ]
        }
      ]
    },
    {
      "cell_type": "code",
      "source": [
        "'''collective datatyoes in python\n",
        "List\n",
        "Tuple\n",
        "Set\n",
        "Dictionary'''\n",
        "\n",
        "#List-> collection of data, ordered, it's mutable, []\n",
        "mylist=[\"Data\",\"A\",\"TAsk\",\"Schedule\",544,True,245,61]\n",
        "print(\"The value of mylist is\",mylist)\n",
        "print(mylist)\n",
        "print(type(mylist))\n",
        "#Index value -> prints individual data\n",
        "print(mylist[0])\n",
        "print(mylist[1])\n",
        "print(mylist[2])\n",
        "print(mylist[-1])\n",
        "print(mylist[-2])\n",
        "print(mylist[-3])\n",
        "\n",
        "# changeable\n",
        "# Update\n",
        "mylist[-3]=False\n",
        "print(\"the updated values if list is\",mylist)\n",
        "mylist[1]='B'\n",
        "print(mylist)"
      ],
      "metadata": {
        "colab": {
          "base_uri": "https://localhost:8080/"
        },
        "id": "kbZoAYnA3w-M",
        "outputId": "12407207-4545-4c15-a0da-a89492984777"
      },
      "execution_count": null,
      "outputs": [
        {
          "output_type": "stream",
          "name": "stdout",
          "text": [
            "The value of mylist is ['Data', 'A', 'TAsk', 'Schedule', 544, True, 245, 61]\n",
            "['Data', 'A', 'TAsk', 'Schedule', 544, True, 245, 61]\n",
            "<class 'list'>\n",
            "Data\n",
            "A\n",
            "TAsk\n",
            "61\n",
            "245\n",
            "True\n",
            "the updated values if list is ['Data', 'A', 'TAsk', 'Schedule', 544, False, 245, 61]\n",
            "['Data', 'B', 'TAsk', 'Schedule', 544, False, 245, 61]\n"
          ]
        }
      ]
    },
    {
      "cell_type": "code",
      "source": [
        "#append(add)\n",
        "mylist.append(\"Details\") #can add only one element using .append()\n",
        "print(\"The values after adding are\",mylist)"
      ],
      "metadata": {
        "colab": {
          "base_uri": "https://localhost:8080/"
        },
        "id": "BavknNIm-iFn",
        "outputId": "bce4379f-748b-4fe5-e568-5b1831eae597"
      },
      "execution_count": null,
      "outputs": [
        {
          "output_type": "stream",
          "name": "stdout",
          "text": [
            "The values after adding are ['Data', 'B', 'TAsk', 'insert', 'Schedule', 544, False, 245, 61, 'Details', 'Details', 'Details', 1, 23, 456, 'Details']\n"
          ]
        }
      ]
    },
    {
      "cell_type": "code",
      "source": [
        "#insert\n",
        "mylist.insert(3,\"insert\") #inserts at index 3 and pushes the succeeding values...\n",
        "print(\"The values after adding are\",mylist)"
      ],
      "metadata": {
        "colab": {
          "base_uri": "https://localhost:8080/"
        },
        "id": "9ynnYibE_RqD",
        "outputId": "15c0d90b-956f-4d1e-9f96-23839bcf4510"
      },
      "execution_count": null,
      "outputs": [
        {
          "output_type": "stream",
          "name": "stdout",
          "text": [
            "The values after adding are ['Data', 'B', 'TAsk', 'insert', 'Schedule', 544, False, 245, 61, 'Details', 'Details', 'Details']\n"
          ]
        }
      ]
    },
    {
      "cell_type": "code",
      "source": [
        "list1=[1,23,456]\n",
        "#extend\n",
        "mylist.extend(list1)\n",
        "print(\"The value of list is\",mylist)"
      ],
      "metadata": {
        "colab": {
          "base_uri": "https://localhost:8080/"
        },
        "id": "IQhCFw2V_qrA",
        "outputId": "0d0a9bda-a103-4497-a0e6-3ca617fdae8b"
      },
      "execution_count": null,
      "outputs": [
        {
          "output_type": "stream",
          "name": "stdout",
          "text": [
            "The value of list is ['TAsk', 'insert', 'Schedule', False, 245, 61, 'Details', 'Details', 1, 23, 456, 'Details', 1, 23, 456]\n"
          ]
        }
      ]
    },
    {
      "cell_type": "code",
      "source": [
        "#Remove\n",
        "mylist.remove('Schedule')\n",
        "print(\"The values are\",mylist)"
      ],
      "metadata": {
        "colab": {
          "base_uri": "https://localhost:8080/",
          "height": 203
        },
        "id": "QpBEx_chA1rU",
        "outputId": "01cab653-77ef-45a8-e1bb-73bc1d065294"
      },
      "execution_count": null,
      "outputs": [
        {
          "output_type": "error",
          "ename": "NameError",
          "evalue": "ignored",
          "traceback": [
            "\u001b[0;31m---------------------------------------------------------------------------\u001b[0m",
            "\u001b[0;31mNameError\u001b[0m                                 Traceback (most recent call last)",
            "\u001b[0;32m<ipython-input-47-4dfe02a5e3a2>\u001b[0m in \u001b[0;36m<cell line: 2>\u001b[0;34m()\u001b[0m\n\u001b[1;32m      1\u001b[0m \u001b[0;31m#Remove\u001b[0m\u001b[0;34m\u001b[0m\u001b[0;34m\u001b[0m\u001b[0m\n\u001b[0;32m----> 2\u001b[0;31m \u001b[0mmylist\u001b[0m\u001b[0;34m.\u001b[0m\u001b[0mremove\u001b[0m\u001b[0;34m(\u001b[0m\u001b[0;34m'Schedule'\u001b[0m\u001b[0;34m)\u001b[0m\u001b[0;34m\u001b[0m\u001b[0;34m\u001b[0m\u001b[0m\n\u001b[0m\u001b[1;32m      3\u001b[0m \u001b[0mprint\u001b[0m\u001b[0;34m(\u001b[0m\u001b[0;34m\"The values are\"\u001b[0m\u001b[0;34m,\u001b[0m\u001b[0mmylist\u001b[0m\u001b[0;34m)\u001b[0m\u001b[0;34m\u001b[0m\u001b[0;34m\u001b[0m\u001b[0m\n",
            "\u001b[0;31mNameError\u001b[0m: name 'mylist' is not defined"
          ]
        }
      ]
    },
    {
      "cell_type": "code",
      "source": [
        "#delete\n",
        "del mylist[0]\n",
        "print(mylist)"
      ],
      "metadata": {
        "colab": {
          "base_uri": "https://localhost:8080/"
        },
        "id": "ftcdxbAxBDul",
        "outputId": "f1b30207-e1fb-4b76-c1ae-78a75f6b7fcf"
      },
      "execution_count": null,
      "outputs": [
        {
          "output_type": "stream",
          "name": "stdout",
          "text": [
            "['insert', 'Schedule', False, 245, 61, 'Details', 'Details', 1, 23, 456, 'Details', 1, 23, 456]\n"
          ]
        }
      ]
    },
    {
      "cell_type": "code",
      "source": [
        "del mylist\n",
        "print(mylist)"
      ],
      "metadata": {
        "colab": {
          "base_uri": "https://localhost:8080/",
          "height": 186
        },
        "id": "WY2YwC-kCeSU",
        "outputId": "7869468b-ac3b-4c94-809d-749574b74af2"
      },
      "execution_count": null,
      "outputs": [
        {
          "output_type": "error",
          "ename": "NameError",
          "evalue": "ignored",
          "traceback": [
            "\u001b[0;31m---------------------------------------------------------------------------\u001b[0m",
            "\u001b[0;31mNameError\u001b[0m                                 Traceback (most recent call last)",
            "\u001b[0;32m<ipython-input-45-12cbb56bb4a8>\u001b[0m in \u001b[0;36m<cell line: 2>\u001b[0;34m()\u001b[0m\n\u001b[1;32m      1\u001b[0m \u001b[0;32mdel\u001b[0m \u001b[0mmylist\u001b[0m\u001b[0;34m\u001b[0m\u001b[0;34m\u001b[0m\u001b[0m\n\u001b[0;32m----> 2\u001b[0;31m \u001b[0mprint\u001b[0m\u001b[0;34m(\u001b[0m\u001b[0mmylist\u001b[0m\u001b[0;34m)\u001b[0m\u001b[0;34m\u001b[0m\u001b[0;34m\u001b[0m\u001b[0m\n\u001b[0m",
            "\u001b[0;31mNameError\u001b[0m: name 'mylist' is not defined"
          ]
        }
      ]
    },
    {
      "cell_type": "markdown",
      "source": [
        "#all my syntax is right. Ignore the errors... my order of execution went wrong.. so please ignore"
      ],
      "metadata": {
        "id": "t03wu_OECtyh"
      }
    },
    {
      "cell_type": "code",
      "source": [
        "\n",
        "list1=[1,2]\n",
        "list2=[3,4]\n",
        "list1.extend(list2)\n",
        "print(list1)"
      ],
      "metadata": {
        "colab": {
          "base_uri": "https://localhost:8080/"
        },
        "id": "nXR8OhflC5GP",
        "outputId": "61d9bbee-c2c4-4cda-b9eb-1d665d87e403"
      },
      "execution_count": null,
      "outputs": [
        {
          "output_type": "stream",
          "name": "stdout",
          "text": [
            "[1, 2, 3, 4]\n"
          ]
        }
      ]
    },
    {
      "cell_type": "code",
      "source": [
        "#tuple -> ordered collection of datatypes, (),\n",
        "mytuple=(\"Dell\",534,\"HP\",34.6,False)\n",
        "print(mytuple)\n",
        "print(len(mytuple))"
      ],
      "metadata": {
        "colab": {
          "base_uri": "https://localhost:8080/"
        },
        "id": "24U0Qws8DhqB",
        "outputId": "e2d1cf3c-1720-49b6-e8a2-899f86cc200f"
      },
      "execution_count": null,
      "outputs": [
        {
          "output_type": "stream",
          "name": "stdout",
          "text": [
            "('Dell', 534, 'HP', 34.6, False)\n",
            "5\n"
          ]
        }
      ]
    },
    {
      "cell_type": "code",
      "source": [
        "#Dictionary -> {}, key and values\n",
        "mydic={\n",
        "    \"username\":\"Admin\",\n",
        "    \"Password\":\"Pass\",\n",
        "    \"Batch\":2023\n",
        "}\n",
        "print(mydic)\n",
        "print(mydic[\"username\"])\n",
        "\n",
        "#update\n",
        "mydic[\"username\"]=(\"Admin123\",\"Admin\") #adding more values to a key\n",
        "print(\"The values after updating are\",mydic)\n",
        "\n",
        "mydic[\"Course\"]=\"Python\" #adding a new key and its value\n",
        "print(\"The values are\",mydic)\n",
        "\n",
        "list1=[1,23,34,5]\n",
        "mydic[\"Password\"]=list1 #list inside a tuple?\n",
        "print(\"The values are\",mydic)\n",
        "\n",
        "mydic.pop(\"username\") #username vanished\n",
        "print(\"The values are\",mydic)\n",
        "\n",
        "#updating the key\n",
        "new=mydic[\"Course\"]\n",
        "del mydic[\"Course\"]\n",
        "mydic[\"Learning\"]=new\n",
        "print(mydic)\n",
        "\n",
        "# del mydic\n",
        "# print(mydic)\n",
        "\n"
      ],
      "metadata": {
        "colab": {
          "base_uri": "https://localhost:8080/"
        },
        "id": "wkelZWZPLA5L",
        "outputId": "423a286b-6224-45b8-86ca-f772f9d5b7d0"
      },
      "execution_count": null,
      "outputs": [
        {
          "output_type": "stream",
          "name": "stdout",
          "text": [
            "{'username': 'Admin', 'Password': 'Pass', 'Batch': 2023}\n",
            "Admin\n",
            "The values after updating are {'username': ('Admin123', 'Admin'), 'Password': 'Pass', 'Batch': 2023}\n",
            "The values are {'username': ('Admin123', 'Admin'), 'Password': 'Pass', 'Batch': 2023, 'Course': 'Python'}\n",
            "The values are {'username': ('Admin123', 'Admin'), 'Password': [1, 23, 34, 5], 'Batch': 2023, 'Course': 'Python'}\n",
            "The values are {'Password': [1, 23, 34, 5], 'Batch': 2023, 'Course': 'Python'}\n",
            "{'Password': [1, 23, 34, 5], 'Batch': 2023, 'Learning': 'Python'}\n"
          ]
        }
      ]
    },
    {
      "cell_type": "code",
      "source": [
        "print(mydic[\"Admin\"]) #must use key to get value, not vice versa"
      ],
      "metadata": {
        "colab": {
          "base_uri": "https://localhost:8080/",
          "height": 168
        },
        "id": "X1PxNN3jLs6S",
        "outputId": "e4257eb8-9847-4ecf-9969-a898e51c1196"
      },
      "execution_count": null,
      "outputs": [
        {
          "output_type": "error",
          "ename": "KeyError",
          "evalue": "ignored",
          "traceback": [
            "\u001b[0;31m---------------------------------------------------------------------------\u001b[0m",
            "\u001b[0;31mKeyError\u001b[0m                                  Traceback (most recent call last)",
            "\u001b[0;32m<ipython-input-52-9ff6ed918535>\u001b[0m in \u001b[0;36m<cell line: 1>\u001b[0;34m()\u001b[0m\n\u001b[0;32m----> 1\u001b[0;31m \u001b[0mprint\u001b[0m\u001b[0;34m(\u001b[0m\u001b[0mmydic\u001b[0m\u001b[0;34m[\u001b[0m\u001b[0;34m\"Admin\"\u001b[0m\u001b[0;34m]\u001b[0m\u001b[0;34m)\u001b[0m\u001b[0;34m\u001b[0m\u001b[0;34m\u001b[0m\u001b[0m\n\u001b[0m",
            "\u001b[0;31mKeyError\u001b[0m: 'Admin'"
          ]
        }
      ]
    },
    {
      "cell_type": "code",
      "source": [
        "#set -> unordered, unindexed collection of datatypes, {}, doesn't contain a duplicate value (unlike dictionary)\n",
        "\n",
        "myset={\"data\",\"task\",12,354.6,False,12,12}\n",
        "print(myset)\n",
        "\n",
        "# add\n",
        "\n",
        "myset.add(\"True\")\n",
        "print(myset)\n",
        "\n"
      ],
      "metadata": {
        "colab": {
          "base_uri": "https://localhost:8080/"
        },
        "id": "knd1iZ0XL47b",
        "outputId": "a6a34b0e-9898-4fd0-b01f-ea665078fe1c"
      },
      "execution_count": null,
      "outputs": [
        {
          "output_type": "stream",
          "name": "stdout",
          "text": [
            "{False, 354.6, 'task', 'data', 12}\n",
            "{False, 'True', 354.6, 'task', 'data', 12}\n"
          ]
        }
      ]
    },
    {
      "cell_type": "code",
      "source": [
        "set1={1,23,4,5,67,8}\n",
        "set2={2,34,0,56,3}\n",
        "set3=set1.union(set2)\n",
        "print(set3)"
      ],
      "metadata": {
        "colab": {
          "base_uri": "https://localhost:8080/"
        },
        "id": "gPt1hf1xbAoa",
        "outputId": "8f3fab3e-5a19-4e2e-d474-d7fa915da298"
      },
      "execution_count": null,
      "outputs": [
        {
          "output_type": "stream",
          "name": "stdout",
          "text": [
            "{0, 1, 2, 67, 4, 5, 3, 34, 8, 23, 56}\n"
          ]
        }
      ]
    },
    {
      "cell_type": "code",
      "source": [
        "Dec={'we':12,'we1':12} #what is this???\n",
        "print(Dec)"
      ],
      "metadata": {
        "colab": {
          "base_uri": "https://localhost:8080/"
        },
        "id": "BBM92emKbGU-",
        "outputId": "afdfd7c4-5145-4e08-bc7a-5aa5d187a64d"
      },
      "execution_count": null,
      "outputs": [
        {
          "output_type": "stream",
          "name": "stdout",
          "text": [
            "{'we': 12, 'we1': 12}\n"
          ]
        }
      ]
    },
    {
      "cell_type": "code",
      "source": [
        "set4=set1|set2\n",
        "print(set4)"
      ],
      "metadata": {
        "colab": {
          "base_uri": "https://localhost:8080/"
        },
        "id": "_Ba1WF0WbygI",
        "outputId": "ba6b8fcd-a4dd-42e7-9e9b-75e06658080c"
      },
      "execution_count": null,
      "outputs": [
        {
          "output_type": "stream",
          "name": "stdout",
          "text": [
            "{0, 1, 2, 67, 4, 5, 3, 34, 8, 23, 56}\n"
          ]
        }
      ]
    },
    {
      "cell_type": "code",
      "source": [
        "set3=myset|set1\n",
        "print(set3)"
      ],
      "metadata": {
        "colab": {
          "base_uri": "https://localhost:8080/"
        },
        "id": "kOl35cMtchrB",
        "outputId": "109c403d-430f-460b-e0f2-2d1e86ed0d62"
      },
      "execution_count": null,
      "outputs": [
        {
          "output_type": "stream",
          "name": "stdout",
          "text": [
            "{False, 1, 354.6, 67, 4, 5, 8, 'data', 12, 'True', 23, 'task'}\n"
          ]
        }
      ]
    },
    {
      "cell_type": "code",
      "source": [
        "set3=myset.intersection(set1)\n",
        "print(set3)"
      ],
      "metadata": {
        "colab": {
          "base_uri": "https://localhost:8080/"
        },
        "id": "6NjE4Myndp7j",
        "outputId": "242e0706-1e90-416f-df3a-a64ea57f3524"
      },
      "execution_count": null,
      "outputs": [
        {
          "output_type": "stream",
          "name": "stdout",
          "text": [
            "set()\n"
          ]
        }
      ]
    },
    {
      "cell_type": "code",
      "source": [
        "set1={1,23,4,5,67,8}\n",
        "set2={2,34,0,56,3,1}\n",
        "set3=set1&set2\n",
        "print(set3)"
      ],
      "metadata": {
        "colab": {
          "base_uri": "https://localhost:8080/"
        },
        "id": "tuHmlXD1d9QV",
        "outputId": "c204cc0b-906a-44c0-fc40-57961953bede"
      },
      "execution_count": null,
      "outputs": [
        {
          "output_type": "stream",
          "name": "stdout",
          "text": [
            "{1}\n"
          ]
        }
      ]
    },
    {
      "cell_type": "code",
      "source": [
        "set4=set1.difference(set2)\n",
        "print(set4)"
      ],
      "metadata": {
        "colab": {
          "base_uri": "https://localhost:8080/"
        },
        "id": "zAMgtyyIepTl",
        "outputId": "eeb7f1c4-f14a-4760-bdab-b792e58181c7"
      },
      "execution_count": null,
      "outputs": [
        {
          "output_type": "stream",
          "name": "stdout",
          "text": [
            "{67, 4, 5, 8, 23}\n"
          ]
        }
      ]
    },
    {
      "cell_type": "code",
      "source": [
        "set2.clear()\n",
        "print(set2)"
      ],
      "metadata": {
        "colab": {
          "base_uri": "https://localhost:8080/"
        },
        "id": "HQBew9kEeO99",
        "outputId": "9fba2825-e795-4130-fa91-528b7d152bcf"
      },
      "execution_count": null,
      "outputs": [
        {
          "output_type": "stream",
          "name": "stdout",
          "text": [
            "set()\n"
          ]
        }
      ]
    },
    {
      "cell_type": "code",
      "source": [
        "#Assignment 1\n",
        "#Create two different examples for collective datatypes in python"
      ],
      "metadata": {
        "id": "aRRBqM1tejCc"
      },
      "execution_count": null,
      "outputs": []
    },
    {
      "cell_type": "markdown",
      "source": [
        "Class 4"
      ],
      "metadata": {
        "id": "uwj7IySrHZTl"
      }
    },
    {
      "cell_type": "code",
      "source": [
        "print(\"Hello all \\nGood evening \\nWelcome back to the class\")\n"
      ],
      "metadata": {
        "colab": {
          "base_uri": "https://localhost:8080/"
        },
        "id": "DOnfjA-SHaom",
        "outputId": "52d1c976-3790-42be-b2ca-5a0441583101"
      },
      "execution_count": null,
      "outputs": [
        {
          "output_type": "stream",
          "name": "stdout",
          "text": [
            "Hello all \n",
            "Good evening \n",
            "Welcome back to the class\n"
          ]
        }
      ]
    },
    {
      "cell_type": "code",
      "source": [
        "# Function=> A set of data will be executed whenever you call it\n",
        "\n",
        "def a():\n",
        "  print(\"Hello all \\ngood evening everyone \\nwelcome back to the class\")\n",
        "a()\n",
        "a()\n",
        "a()"
      ],
      "metadata": {
        "id": "yXOANSy4HqGE",
        "colab": {
          "base_uri": "https://localhost:8080/"
        },
        "outputId": "fa17cbfd-9bfe-46eb-c8ac-2bc462113eb0"
      },
      "execution_count": 2,
      "outputs": [
        {
          "output_type": "stream",
          "name": "stdout",
          "text": [
            "Hello all \n",
            "good evening everyone \n",
            "welcome back to the class\n",
            "Hello all \n",
            "good evening everyone \n",
            "welcome back to the class\n",
            "Hello all \n",
            "good evening everyone \n",
            "welcome back to the class\n"
          ]
        }
      ]
    },
    {
      "cell_type": "code",
      "source": [
        "def add(num1,num2):\n",
        "  print(\"The addition of two values are\",(num1+num2),\"The difference of two values are\",(num1-num2))\n",
        "\n",
        "add(2,3)\n",
        "add(3,4)\n"
      ],
      "metadata": {
        "colab": {
          "base_uri": "https://localhost:8080/"
        },
        "id": "tNK0gm9w2n9T",
        "outputId": "89caddc6-de9b-49c1-880f-40f4c0904b5b"
      },
      "execution_count": 15,
      "outputs": [
        {
          "output_type": "stream",
          "name": "stdout",
          "text": [
            "The addition of two values are 5 The difference of two values are -1\n",
            "The addition of two values are 7 The difference of two values are -1\n"
          ]
        }
      ]
    },
    {
      "cell_type": "code",
      "source": [
        "def add1():\n",
        "  num1=int(input(\"Enter the first number: \"))\n",
        "  num2=int(input(\"Enter thw second number: \"))3\n",
        "  print(\"The values are\",(num1+num2))\n",
        "add1()"
      ],
      "metadata": {
        "colab": {
          "base_uri": "https://localhost:8080/"
        },
        "id": "7-qcuplO3Gl4",
        "outputId": "437305f4-9f89-4bb3-fe9e-a728ef0ad97e"
      },
      "execution_count": 10,
      "outputs": [
        {
          "output_type": "stream",
          "name": "stdout",
          "text": [
            "Enter the first number: 10\n",
            "Enter thw second number: 3\n",
            "The values are 13\n"
          ]
        }
      ]
    },
    {
      "cell_type": "code",
      "source": [
        "def a(name):\n",
        "  print(\"My favourite cartoon name is\",name)\n",
        "a(\"Jerry\")"
      ],
      "metadata": {
        "colab": {
          "base_uri": "https://localhost:8080/"
        },
        "id": "dMhs-Mxj4Ffe",
        "outputId": "b545b768-d148-49e9-90d3-4dc5125a0c0b"
      },
      "execution_count": 12,
      "outputs": [
        {
          "output_type": "stream",
          "name": "stdout",
          "text": [
            "My favourite cartoon name is Jerry\n"
          ]
        }
      ]
    },
    {
      "cell_type": "code",
      "source": [
        "#for loop (printing the data one after the other)\n",
        "a=5\n",
        "for x in range(2,a):\n",
        "  print(x)"
      ],
      "metadata": {
        "colab": {
          "base_uri": "https://localhost:8080/"
        },
        "id": "S9sbVCwJ4OBn",
        "outputId": "807f84bd-2b2e-4246-c20f-de2f43fea885"
      },
      "execution_count": 16,
      "outputs": [
        {
          "output_type": "stream",
          "name": "stdout",
          "text": [
            "2\n",
            "3\n",
            "4\n"
          ]
        }
      ]
    },
    {
      "cell_type": "code",
      "source": [
        "for y in range(11):\n",
        "  print(\"The values are\",y)"
      ],
      "metadata": {
        "colab": {
          "base_uri": "https://localhost:8080/"
        },
        "id": "ti0dWP-c5iBA",
        "outputId": "ecb0f07e-c1c7-4a4d-c120-85c8968fb823"
      },
      "execution_count": 19,
      "outputs": [
        {
          "output_type": "stream",
          "name": "stdout",
          "text": [
            "The values are 0\n",
            "The values are 1\n",
            "The values are 2\n",
            "The values are 3\n",
            "The values are 4\n",
            "The values are 5\n",
            "The values are 6\n",
            "The values are 7\n",
            "The values are 8\n",
            "The values are 9\n",
            "The values are 10\n"
          ]
        }
      ]
    },
    {
      "cell_type": "code",
      "source": [
        "for y in range(1,11):\n",
        "  print(\"The values are\",y)"
      ],
      "metadata": {
        "colab": {
          "base_uri": "https://localhost:8080/"
        },
        "id": "ZCQtOGbg5R2C",
        "outputId": "7d52e4a2-f337-4480-fc03-d7fd3588b3a1"
      },
      "execution_count": 18,
      "outputs": [
        {
          "output_type": "stream",
          "name": "stdout",
          "text": [
            "The values are 1\n",
            "The values are 2\n",
            "The values are 3\n",
            "The values are 4\n",
            "The values are 5\n",
            "The values are 6\n",
            "The values are 7\n",
            "The values are 8\n",
            "The values are 9\n",
            "The values are 10\n"
          ]
        }
      ]
    },
    {
      "cell_type": "code",
      "source": [
        "mylist=[\"Data\",\"A\",\"Task\",\"Schedule\",544,True,245,61]\n",
        "print(mylist)\n",
        "for a in mylist:\n",
        "  print(a)"
      ],
      "metadata": {
        "colab": {
          "base_uri": "https://localhost:8080/"
        },
        "id": "PfcBgc_q5mtA",
        "outputId": "dfea68fc-9c12-4a2e-8c7c-e341b81ad004"
      },
      "execution_count": 20,
      "outputs": [
        {
          "output_type": "stream",
          "name": "stdout",
          "text": [
            "['Data', 'A', 'Task', 'Schedule', 544, True, 245, 61]\n",
            "Data\n",
            "A\n",
            "Task\n",
            "Schedule\n",
            "544\n",
            "True\n",
            "245\n",
            "61\n"
          ]
        }
      ]
    },
    {
      "cell_type": "code",
      "source": [
        "num=int(input(\"Enter the range: \"))\n",
        "for i in range(1,num+1):\n",
        "  print(i)\n",
        "\n",
        "num1=(\"hi\",\"hello\",\"sample\",\"on\",\"for\",\"loop\",1,2,3,4)\n",
        "for i in num1:\n",
        "  print(\"The values  in tuple are:\",i)"
      ],
      "metadata": {
        "colab": {
          "base_uri": "https://localhost:8080/"
        },
        "id": "vhTzH7_h6AfB",
        "outputId": "1171f0b9-2d72-491c-93a8-d7a8fb07e008"
      },
      "execution_count": 23,
      "outputs": [
        {
          "output_type": "stream",
          "name": "stdout",
          "text": [
            "Enter the range: 9\n",
            "1\n",
            "2\n",
            "3\n",
            "4\n",
            "5\n",
            "6\n",
            "7\n",
            "8\n",
            "9\n",
            "The values  in tuple are: hi\n",
            "The values  in tuple are: hello\n",
            "The values  in tuple are: sample\n",
            "The values  in tuple are: on\n",
            "The values  in tuple are: for\n",
            "The values  in tuple are: loop\n",
            "The values  in tuple are: 1\n",
            "The values  in tuple are: 2\n",
            "The values  in tuple are: 3\n",
            "The values  in tuple are: 4\n"
          ]
        }
      ]
    },
    {
      "cell_type": "code",
      "source": [
        "def a():\n",
        "  for b in range(5):\n",
        "    print(\"Hello all\")\n",
        "a()"
      ],
      "metadata": {
        "colab": {
          "base_uri": "https://localhost:8080/"
        },
        "id": "bMAEur387dDM",
        "outputId": "2fb2eb1e-e361-47ef-de6d-a157eb259188"
      },
      "execution_count": 24,
      "outputs": [
        {
          "output_type": "stream",
          "name": "stdout",
          "text": [
            "Hello all\n",
            "Hello all\n",
            "Hello all\n",
            "Hello all\n",
            "Hello all\n"
          ]
        }
      ]
    },
    {
      "cell_type": "code",
      "source": [
        "def x():\n",
        "  for i in range(0,-5,-1):\n",
        "    print(\"Hey\")\n",
        "x()"
      ],
      "metadata": {
        "colab": {
          "base_uri": "https://localhost:8080/"
        },
        "id": "RiKXUcMP71Lt",
        "outputId": "021d404b-7353-452f-c84f-a03a2603e292"
      },
      "execution_count": 25,
      "outputs": [
        {
          "output_type": "stream",
          "name": "stdout",
          "text": [
            "Hey\n",
            "Hey\n",
            "Hey\n",
            "Hey\n",
            "Hey\n"
          ]
        }
      ]
    },
    {
      "cell_type": "code",
      "source": [
        "if(2>6):\n",
        "  print(\"the ffirst number is greater\")\n",
        "elif(2==\"2\"):\n",
        "  print(\"the second number is greater\")\n",
        "else:\n",
        "  print(\"None\")"
      ],
      "metadata": {
        "colab": {
          "base_uri": "https://localhost:8080/"
        },
        "id": "usp7uXSQ8Bqt",
        "outputId": "1f830e29-b444-4e03-9b72-f397328b5700"
      },
      "execution_count": 28,
      "outputs": [
        {
          "output_type": "stream",
          "name": "stdout",
          "text": [
            "None\n"
          ]
        }
      ]
    },
    {
      "cell_type": "code",
      "source": [
        "def quiz():\n",
        "  n=input()\n",
        "  if n==(\"a\",\"b\",\"d\"):\n",
        "    print(\"you have lost\")\n",
        "  elif n==\"c\":\n",
        "    print(\"you have won\")\n",
        "quiz()"
      ],
      "metadata": {
        "colab": {
          "base_uri": "https://localhost:8080/"
        },
        "id": "oihygIfT8lNG",
        "outputId": "be93c2c8-3ffe-4c0c-add5-0539d811252f"
      },
      "execution_count": 33,
      "outputs": [
        {
          "output_type": "stream",
          "name": "stdout",
          "text": [
            "c\n",
            "you have won\n"
          ]
        }
      ]
    }
  ]
}